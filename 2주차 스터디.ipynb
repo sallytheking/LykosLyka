{
 "cells": [
  {
   "cell_type": "code",
   "execution_count": null,
   "metadata": {},
   "outputs": [],
   "source": [
    "SELECT MAX(salary*months),\n",
    "       COUNT(*)\n",
    "FROM Employee\n",
    "WHERE salary * months = (\n",
    "      SELECT MAX(salary*months)\n",
    "      FROM Employee\n",
    ");"
   ]
  },
  {
   "cell_type": "code",
   "execution_count": null,
   "metadata": {},
   "outputs": [],
   "source": [
    "SELECT CEILING(AVG(Salary) \n",
    "               - AVG(REPLACE(salary, 0, \"\"))) #SALARY칼럼에서 0을 \"\"으로 대체\n",
    "FROM EMPLOYEES;"
   ]
  },
  {
   "cell_type": "code",
   "execution_count": null,
   "metadata": {},
   "outputs": [],
   "source": [
    "SELECT A.hacker_id, A.name, SUM(B.total_score)AS total_score\n",
    "  FROM (\n",
    "        SELECT hacker_id, challenge_id, MAX(score) as total_score\n",
    "        FROM Submissions\n",
    "        GROUP BY hacker_id, challenge_id\n",
    "        ) AS B\n",
    "  JOIN Hackers A ON A.hacker_id = B.hacker_id\n",
    "GROUP BY A.hacker_id, A.name\n",
    "  HAVING SUM(total_score) > 0\n",
    "ORDER BY total_score DESC, B.hacker_id ASC;"
   ]
  },
  {
   "cell_type": "code",
   "execution_count": null,
   "metadata": {},
   "outputs": [],
   "source": [
    "-- 최소 길이의 도시 (알파벳 순 정렬 포함)\n",
    "SELECT CITY, LENGTH(CITY)\n",
    "FROM STATION\n",
    "ORDER BY LENGTH(CITY) ASC, CITY ASC\n",
    "LIMIT 1;\n",
    "\n",
    "-- 최대 길이의 도시 (알파벳 순 정렬 포함)\n",
    "SELECT CITY, LENGTH(CITY)\n",
    "FROM STATION\n",
    "ORDER BY LENGTH(CITY) DESC, CITY ASC\n",
    "LIMIT 1;"
   ]
  },
  {
   "cell_type": "code",
   "execution_count": null,
   "metadata": {},
   "outputs": [],
   "source": [
    "#Type of Triangle\n",
    "SELECT CASE\n",
    "WHEN A+B <= C OR B+C <= A OR A+C <= B\n",
    "THEN 'Not A Triangle'\n",
    "\n",
    "WHEN A = B and B = C and C = A\n",
    "THEN 'Equilateral'\n",
    "\n",
    "WHEN A = B or B = C or C = A\n",
    "THEN 'Isosceles'\n",
    "\n",
    "ELSE 'Scalene'\n",
    "\n",
    "END AS 'TRIANGLES TYPE'\n",
    "FROM TRIANGLES;"
   ]
  },
  {
   "cell_type": "code",
   "execution_count": null,
   "metadata": {},
   "outputs": [],
   "source": [
    "#Draw The Triangle 1\n",
    "WITH RECURSIVE CTE AS(\n",
    "SELECT REPEAT('* ', 20) AS STAR, 20 AS N\n",
    "UNION ALL\n",
    "SELECT REPEAT('* ', N-1), N-1\n",
    "FROM CTE\n",
    "WHERE N>1\n",
    ")\n",
    "\n",
    "SELECT STAR\n",
    "FROM CTE;"
   ]
  },
  {
   "cell_type": "code",
   "execution_count": null,
   "metadata": {},
   "outputs": [],
   "source": [
    "#Draw The Triangle 2\n",
    "WITH RECURSIVE CTE AS(\n",
    "SELECT REPEAT('* ', 20) AS STAR, 20 AS N\n",
    "UNION ALL\n",
    "SELECT REPEAT('* ', N-1), N-1\n",
    "FROM CTE\n",
    "WHERE N>1\n",
    ")\n",
    "\n",
    "SELECT STAR\n",
    "FROM CTE\n",
    "ORDER BY STAR ASC;"
   ]
  },
  {
   "cell_type": "code",
   "execution_count": null,
   "metadata": {},
   "outputs": [],
   "source": [
    "#Placements\n",
    "\n",
    "SELECT A.Name\n",
    "  FROM (\n",
    "      Students A\n",
    "      JOIN Friends B USING(ID)\n",
    "      JOIN Packages C1 ON A.ID = C1.ID\n",
    "      JOIN Packages C2 ON B.friend_ID = C2.ID\n",
    ")\n",
    " WHERE C1.Salary < C2.Salary\n",
    " ORDER\n",
    "    BY C2.Salary; "
   ]
  },
  {
   "cell_type": "code",
   "execution_count": null,
   "metadata": {},
   "outputs": [],
   "source": [
    "#The Report\n",
    "SELECT IF(Grade < 8, NULL, NAME), Grade, Marks\n",
    "FROM Students JOIN Grades\n",
    "WHERE Marks BETWEEN Min_mark AND Max_Mark\n",
    "ORDER BY grade DESC, Name, Marks ASC;"
   ]
  },
  {
   "cell_type": "code",
   "execution_count": null,
   "metadata": {},
   "outputs": [],
   "source": []
  },
  {
   "cell_type": "code",
   "execution_count": null,
   "metadata": {},
   "outputs": [],
   "source": []
  },
  {
   "cell_type": "code",
   "execution_count": null,
   "metadata": {},
   "outputs": [],
   "source": []
  },
  {
   "cell_type": "code",
   "execution_count": null,
   "metadata": {},
   "outputs": [],
   "source": []
  },
  {
   "cell_type": "code",
   "execution_count": null,
   "metadata": {},
   "outputs": [],
   "source": []
  },
  {
   "cell_type": "code",
   "execution_count": null,
   "metadata": {},
   "outputs": [],
   "source": []
  }
 ],
 "metadata": {
  "kernelspec": {
   "display_name": "Python 3",
   "language": "python",
   "name": "python3"
  },
  "language_info": {
   "name": "python",
   "version": "3.13.0"
  }
 },
 "nbformat": 4,
 "nbformat_minor": 2
}
